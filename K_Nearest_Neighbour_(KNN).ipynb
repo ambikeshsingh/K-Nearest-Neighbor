{
  "nbformat": 4,
  "nbformat_minor": 0,
  "metadata": {
    "colab": {
      "provenance": [],
      "collapsed_sections": []
    },
    "kernelspec": {
      "name": "python3",
      "display_name": "Python 3"
    },
    "language_info": {
      "name": "python"
    }
  },
  "cells": [
    {
      "cell_type": "markdown",
      "source": [
        "The purpose of this dataset is to diagnose whether or not a patient is diabetic, on the basis of certain diagnostic measures in the dataset.\n",
        "\n",
        "Dataset=Pima Indian Diabetes Dataset"
      ],
      "metadata": {
        "id": "FhitcDbYf5j7"
      }
    },
    {
      "cell_type": "code",
      "execution_count": 1,
      "metadata": {
        "id": "pi2JAGoVe-iB"
      },
      "outputs": [],
      "source": [
        "#KNN Classification\n",
        "from pandas import read_csv\n",
        "import numpy as np\n",
        "from sklearn.model_selection import KFold\n",
        "from sklearn.model_selection import cross_val_score\n",
        "from sklearn.neighbors import KNeighborsClassifier"
      ]
    },
    {
      "cell_type": "code",
      "source": [
        "from google.colab import drive\n",
        "drive.mount(\"/content/drive\")"
      ],
      "metadata": {
        "colab": {
          "base_uri": "https://localhost:8080/"
        },
        "id": "lfqBVdv2htVA",
        "outputId": "11596daf-07ec-4c55-eb6b-c0f02e618047"
      },
      "execution_count": 2,
      "outputs": [
        {
          "output_type": "stream",
          "name": "stdout",
          "text": [
            "Mounted at /content/drive\n"
          ]
        }
      ]
    },
    {
      "cell_type": "code",
      "source": [
        "filename=(\"/content/drive/MyDrive/pima-indians-diabetes.data.csv\")\n",
        "names=['preg','plas','pres','skin','test','mass','pedi','age','class']\n",
        "knn_df=read_csv(filename,names=names)"
      ],
      "metadata": {
        "id": "rwNmK_R7iz8w"
      },
      "execution_count": 3,
      "outputs": []
    },
    {
      "cell_type": "code",
      "source": [
        "array=knn_df.values\n",
        "X=array[:,0:8]\n",
        "Y=array[:,8]"
      ],
      "metadata": {
        "id": "iZMPVXoKjnmb"
      },
      "execution_count": 4,
      "outputs": []
    },
    {
      "cell_type": "code",
      "source": [
        "num_folds=10\n",
        "kfold=KFold(n_splits=10)\n",
        "model=KNeighborsClassifier(n_neighbors=14)\n",
        "result=cross_val_score(model,X,Y,cv=kfold)\n"
      ],
      "metadata": {
        "id": "fbS0rXYdk9Hh"
      },
      "execution_count": 5,
      "outputs": []
    },
    {
      "cell_type": "code",
      "source": [
        "result"
      ],
      "metadata": {
        "colab": {
          "base_uri": "https://localhost:8080/"
        },
        "id": "sHe6MBwvlx7J",
        "outputId": "55f767a2-f8cc-4456-d1ac-b1dec02b0f47"
      },
      "execution_count": 6,
      "outputs": [
        {
          "output_type": "execute_result",
          "data": {
            "text/plain": [
              "array([0.71428571, 0.81818182, 0.68831169, 0.64935065, 0.77922078,\n",
              "       0.76623377, 0.80519481, 0.85714286, 0.75      , 0.73684211])"
            ]
          },
          "metadata": {},
          "execution_count": 6
        }
      ]
    },
    {
      "cell_type": "code",
      "source": [
        "result.mean()*100.0"
      ],
      "metadata": {
        "colab": {
          "base_uri": "https://localhost:8080/"
        },
        "id": "njGjR5psl1ZE",
        "outputId": "f0c20cf1-2fd1-48e1-fab5-136265fc9e25"
      },
      "execution_count": 7,
      "outputs": [
        {
          "output_type": "execute_result",
          "data": {
            "text/plain": [
              "75.64764183185235"
            ]
          },
          "metadata": {},
          "execution_count": 7
        }
      ]
    },
    {
      "cell_type": "markdown",
      "source": [
        "Grid Search for Algorithm Tuning"
      ],
      "metadata": {
        "id": "3ixElOf8mBOx"
      }
    },
    {
      "cell_type": "code",
      "source": [
        "#Grid search for algorithm tuning\n",
        "from pandas import read_csv\n",
        "import numpy as np\n",
        "from sklearn.neighbors import KNeighborsClassifier\n",
        "from sklearn.model_selection import GridSearchCV"
      ],
      "metadata": {
        "id": "iXoQy292mAbP"
      },
      "execution_count": 8,
      "outputs": []
    },
    {
      "cell_type": "code",
      "source": [
        "filename=('/content/drive/MyDrive/pima-indians-diabetes.data.csv')\n",
        "names=['preg','plas','pres','skin','test','mass','pedi','age','class']\n",
        "grid_df=read_csv(filename,names=names)\n",
        "array=grid_df.values\n",
        "X=array[:,0:8]\n",
        "Y=array[:,8]"
      ],
      "metadata": {
        "id": "nRLLbB4_l5ah"
      },
      "execution_count": 9,
      "outputs": []
    },
    {
      "cell_type": "code",
      "source": [
        "n_neighbors=np.array(range(1,41))\n",
        "param_grid=dict(n_neighbors=n_neighbors)"
      ],
      "metadata": {
        "id": "pFGp2GHfntVF"
      },
      "execution_count": 10,
      "outputs": []
    },
    {
      "cell_type": "code",
      "source": [
        "model=KNeighborsClassifier()\n",
        "grid=GridSearchCV(model,param_grid=param_grid)\n",
        "grid.fit(X,Y)"
      ],
      "metadata": {
        "colab": {
          "base_uri": "https://localhost:8080/"
        },
        "id": "nxep7xNqoSyD",
        "outputId": "492a48de-21c4-4a78-c51b-6b478f580202"
      },
      "execution_count": 11,
      "outputs": [
        {
          "output_type": "execute_result",
          "data": {
            "text/plain": [
              "GridSearchCV(estimator=KNeighborsClassifier(),\n",
              "             param_grid={'n_neighbors': array([ 1,  2,  3,  4,  5,  6,  7,  8,  9, 10, 11, 12, 13, 14, 15, 16, 17,\n",
              "       18, 19, 20, 21, 22, 23, 24, 25, 26, 27, 28, 29, 30, 31, 32, 33, 34,\n",
              "       35, 36, 37, 38, 39, 40])})"
            ]
          },
          "metadata": {},
          "execution_count": 11
        }
      ]
    },
    {
      "cell_type": "code",
      "source": [
        "print(grid.best_score_)\n",
        "print(grid.best_params_)"
      ],
      "metadata": {
        "colab": {
          "base_uri": "https://localhost:8080/"
        },
        "id": "2WVhgpZapEKY",
        "outputId": "acde60ed-5e51-482b-cc5d-bf7ec70fd40e"
      },
      "execution_count": 12,
      "outputs": [
        {
          "output_type": "stream",
          "name": "stdout",
          "text": [
            "0.7578558696205755\n",
            "{'n_neighbors': 14}\n"
          ]
        }
      ]
    },
    {
      "cell_type": "markdown",
      "source": [
        "Visualizing the CV result\n"
      ],
      "metadata": {
        "id": "AXTGOb3rplFp"
      }
    },
    {
      "cell_type": "code",
      "source": [
        "import matplotlib.pyplot as plt\n",
        "%matplotlib inline"
      ],
      "metadata": {
        "id": "kMBgz8idpgE1"
      },
      "execution_count": 13,
      "outputs": []
    },
    {
      "cell_type": "code",
      "source": [
        "#choose K between 1 to 41\n",
        "k_range=range(1,41)\n",
        "k_score=[]\n",
        "#Use iteration to calculate k in models\n",
        "for k in k_range:\n",
        "  knn=KNeighborsClassifier(n_neighbors=k)\n",
        "  scores=cross_val_score(knn,X,Y,cv=5)\n",
        "  k_score.append(scores.mean())\n"
      ],
      "metadata": {
        "id": "8Av38UZtp6JE"
      },
      "execution_count": 14,
      "outputs": []
    },
    {
      "cell_type": "code",
      "source": [
        "#plot to see clearly\n",
        "plt.plot(k_range,k_score)\n",
        "plt.xlabel(\"value of K for KNN\")\n",
        "plt.ylabel(\"cross-validated accuracy\")\n",
        "plt.show()"
      ],
      "metadata": {
        "colab": {
          "base_uri": "https://localhost:8080/",
          "height": 279
        },
        "id": "0w2wVN80q3oE",
        "outputId": "5371613a-f53f-4e26-d128-61e38e350b94"
      },
      "execution_count": 16,
      "outputs": [
        {
          "output_type": "display_data",
          "data": {
            "text/plain": [
              "<Figure size 432x288 with 1 Axes>"
            ],
            "image/png": "[encoded data removed]"
          },
          "metadata": {
            "needs_background": "light"
          }
        }
      ]
    },
    {
      "cell_type": "code",
      "source": [],
      "metadata": {
        "id": "uyQR4i5zqMvg"
      },
      "execution_count": null,
      "outputs": []
    }
  ]
}